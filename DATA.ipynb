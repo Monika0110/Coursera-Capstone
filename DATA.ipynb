{
 "cells": [
  {
   "cell_type": "markdown",
   "id": "9f35bd38",
   "metadata": {},
   "source": [
    "# DATA Section"
   ]
  },
  {
   "cell_type": "markdown",
   "id": "ada1d449",
   "metadata": {},
   "source": [
    "## I will be using only foursquare location data for this problem and at first I start by taking the city's address in Latitude, Longitude using the geopy library. And by using these coordinates I will extract the data containing the neighborhoods, and venues of different categories in that city, which I can easily seperate out and perfomr the clustering mechanism to know more about the city's different neighborhoods."
   ]
  },
  {
   "cell_type": "code",
   "execution_count": null,
   "id": "817dcdbb",
   "metadata": {},
   "outputs": [],
   "source": []
  }
 ],
 "metadata": {
  "kernelspec": {
   "display_name": "Python 3",
   "language": "python",
   "name": "python3"
  },
  "language_info": {
   "codemirror_mode": {
    "name": "ipython",
    "version": 3
   },
   "file_extension": ".py",
   "mimetype": "text/x-python",
   "name": "python",
   "nbconvert_exporter": "python",
   "pygments_lexer": "ipython3",
   "version": "3.9.2"
  }
 },
 "nbformat": 4,
 "nbformat_minor": 5
}
