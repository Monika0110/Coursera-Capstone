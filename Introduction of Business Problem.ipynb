{
 "cells": [
  {
   "cell_type": "markdown",
   "id": "d6426feb",
   "metadata": {},
   "source": [
    "# Probelm Definition"
   ]
  },
  {
   "cell_type": "markdown",
   "id": "5a10f065",
   "metadata": {},
   "source": [
    "## The problem I have made up is- If I want to move to a city, I have never been and start my Indian restuaurant there so which place in that city should I open it. According to Neighborhood of the place, like it should be in crowded area ofcourse not in a place where nobody comes and also that place and people there should need our services. \n",
    "## For my research I am taking a small town in United Kingdom named Doncaster."
   ]
  },
  {
   "cell_type": "markdown",
   "id": "02be1531",
   "metadata": {},
   "source": [
    "## My this research idea can help Indian people who want to open a restaurant in foreign and we can simply just change our foursquare search address to any other country or city they want to and they can easily find out in which place in that city should they start their business."
   ]
  },
  {
   "cell_type": "code",
   "execution_count": null,
   "id": "d58e81f0",
   "metadata": {},
   "outputs": [],
   "source": []
  }
 ],
 "metadata": {
  "kernelspec": {
   "display_name": "Python 3",
   "language": "python",
   "name": "python3"
  },
  "language_info": {
   "codemirror_mode": {
    "name": "ipython",
    "version": 3
   },
   "file_extension": ".py",
   "mimetype": "text/x-python",
   "name": "python",
   "nbconvert_exporter": "python",
   "pygments_lexer": "ipython3",
   "version": "3.9.2"
  }
 },
 "nbformat": 4,
 "nbformat_minor": 5
}
