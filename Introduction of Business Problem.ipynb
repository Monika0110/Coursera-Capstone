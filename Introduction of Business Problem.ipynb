{
 "cells": [
  {
   "cell_type": "markdown",
   "id": "d6426feb",
   "metadata": {},
   "source": [
    "# Probelm Definition"
   ]
  },
  {
   "cell_type": "markdown",
   "id": "5a10f065",
   "metadata": {},
   "source": [
    "## The problem I have made up is- How much information we can get with the simple Happiness Scores of all countries during different years.What does those numbers shows about any country and how they can help to different type of business organizations around the world and also the analysis helps to the governments finding the reasons for their particular happiness score and how they can improve."
   ]
  },
  {
   "cell_type": "markdown",
   "id": "02be1531",
   "metadata": {},
   "source": [
   
   ]
  },
  {
   "cell_type": "code",
   "execution_count": null,
   "id": "d58e81f0",
   "metadata": {},
   "outputs": [],
   "source": []
  }
 ],
 "metadata": {
  "kernelspec": {
   "display_name": "Python 3",
   "language": "python",
   "name": "python3"
  },
  "language_info": {
   "codemirror_mode": {
    "name": "ipython",
    "version": 3
   },
   "file_extension": ".py",
   "mimetype": "text/x-python",
   "name": "python",
   "nbconvert_exporter": "python",
   "pygments_lexer": "ipython3",
   "version": "3.9.2"
  }
 },
 "nbformat": 4,
 "nbformat_minor": 5
}
